{
 "cells": [
  {
   "cell_type": "markdown",
   "metadata": {},
   "source": [
    "本文按照线性回归的方法，通过 Python 计算结果，由于样本点是从指数函数中获取，因此在线性回归中无法获取很好的结果，后面通过对数线性回归进行计算，并得到了满意的结果。"
   ]
  },
  {
   "cell_type": "markdown",
   "metadata": {},
   "source": [
    "完整的计算公式如下：\n",
    "\n",
    "$\n",
    "\\omega = \n",
    "\\frac{\\sum_{i=1}^{m} y_i (x_i - \\bar{x})}{\\sum_{i=1}^{m} x_i^2 - \\frac{1}{m} (\\sum_{i=1}^{m} x_i)^2}\n",
    "$\n",
    "\n",
    "$\n",
    "b = \\frac{1}{m} \\sum_{i=1}^{m}(y_i-\\omega x_i)\n",
    "$"
   ]
  },
  {
   "cell_type": "markdown",
   "metadata": {},
   "source": [
    "首先计算下面内容\n",
    "\n",
    "$\n",
    "\\sum_{i=1}^{m} y_i (x_i - \\bar{x})\n",
    "$\n",
    "\n",
    "行向量：$\\vec{y}=[y_1,y_2,...,y_m]$\n",
    "\n",
    "列向量：$\\vec{x}=[x_1,x_2,...,x_m]^T$\n",
    "\n",
    "\n",
    "$\\vec{X}=\\vec{x}-\\bar{x}$"
   ]
  },
  {
   "cell_type": "code",
   "execution_count": 3,
   "metadata": {},
   "outputs": [
    {
     "name": "stdout",
     "output_type": "stream",
     "text": [
      "[23.7667777]\n"
     ]
    }
   ],
   "source": [
    "import numpy as np\n",
    "import matplotlib.pyplot as plt\n",
    "\n",
    "xi = [-2.,-1.5,-1.,-0.5,0.,0.5,1.,1.5,2.]\n",
    "yi = [0.13533528,0.22313016,0.36787944,0.60653066,1.,1.64872127,\n",
    " 2.71828183,4.48168907,7.3890561]\n",
    "\n",
    "x_avg = np.average(xi)\n",
    "\n",
    "xib = np.array(xi)\n",
    "Xb = xib.reshape(9, 1) - x_avg\n",
    "yb = np.array(yi)\n",
    "\n",
    "r_numerator = yb@Xb\n",
    "\n",
    "print(r_numerator)"
   ]
  },
  {
   "cell_type": "markdown",
   "metadata": {},
   "source": [
    "然后计算下面内容\n",
    "\n",
    "$\n",
    "\\sum_{i=1}^{m} x_i^2\n",
    "$"
   ]
  },
  {
   "cell_type": "code",
   "execution_count": 4,
   "metadata": {},
   "outputs": [
    {
     "name": "stdout",
     "output_type": "stream",
     "text": [
      "1.6666666666666667\n"
     ]
    }
   ],
   "source": [
    "xi2 = np.average(xib**2)\n",
    "\n",
    "print(xi2)"
   ]
  },
  {
   "cell_type": "markdown",
   "metadata": {},
   "source": [
    "接着计算下面内容\n",
    "\n",
    "$\n",
    "\\frac{1}{m} (\\sum_{i=1}^{m} x_i)^2\n",
    "$"
   ]
  },
  {
   "cell_type": "code",
   "execution_count": 5,
   "metadata": {},
   "outputs": [
    {
     "name": "stdout",
     "output_type": "stream",
     "text": [
      "0.0\n"
     ]
    }
   ],
   "source": [
    "tmp = 1/len(xi)*(np.sum(xib))**2\n",
    "\n",
    "print(tmp)"
   ]
  },
  {
   "cell_type": "markdown",
   "metadata": {},
   "source": [
    "最后计算$\\omega$的值\n",
    "\n",
    "$\n",
    "\\omega = \n",
    "\\frac{\\sum_{i=1}^{m} y_i (x_i - \\bar{x})}{\\sum_{i=1}^{m} x_i^2 - \\frac{1}{m} (\\sum_{i=1}^{m} x_i)^2}\n",
    "$"
   ]
  },
  {
   "cell_type": "code",
   "execution_count": 6,
   "metadata": {},
   "outputs": [
    {
     "name": "stdout",
     "output_type": "stream",
     "text": [
      "w=14.260066619999998\n"
     ]
    }
   ],
   "source": [
    "w = r_numerator/(xi2-tmp)\n",
    "\n",
    "print(\"w=\"+str(float(w)))"
   ]
  },
  {
   "cell_type": "markdown",
   "metadata": {},
   "source": [
    "接着计算$b$的值\n",
    "\n",
    "$\n",
    "b = \\frac{1}{m} \\sum_{i=1}^{m}(y_i-\\omega x_i)\n",
    "$"
   ]
  },
  {
   "cell_type": "code",
   "execution_count": 7,
   "metadata": {},
   "outputs": [
    {
     "name": "stdout",
     "output_type": "stream",
     "text": [
      "b=2.0634026455555565\n"
     ]
    }
   ],
   "source": [
    "y_x = np.sum(yb - w * xib)\n",
    "b = 1/len(xi) * y_x\n",
    "\n",
    "print(\"b=\"+str(float(b)))"
   ]
  },
  {
   "cell_type": "markdown",
   "metadata": {},
   "source": [
    "按照线性回归方法拟合的直线为：\n",
    "\n",
    "$\n",
    "y = \\omega x + b\n",
    "$"
   ]
  },
  {
   "cell_type": "code",
   "execution_count": 9,
   "metadata": {},
   "outputs": [
    {
     "data": {
      "image/png": "[encoded data removed]",
      "text/plain": [
       "<Figure size 432x432 with 1 Axes>"
      ]
     },
     "metadata": {
      "needs_background": "light"
     },
     "output_type": "display_data"
    }
   ],
   "source": [
    "import mpl_toolkits.axisartist as axisartist\n",
    "\n",
    "#创建画布\n",
    "fig = plt.figure(figsize=(6,6))\n",
    "#使用axisartist.Subplot方法创建一个绘图区对象ax\n",
    "ax = axisartist.Subplot(fig, 111)  \n",
    "#将绘图区对象添加到画布中\n",
    "fig.add_axes(ax)\n",
    "\n",
    "#通过set_visible方法设置绘图区所有坐标轴隐藏\n",
    "ax.axis[:].set_visible(False)\n",
    "#ax.new_floating_axis代表添加新的坐标轴\n",
    "ax.axis[\"x\"] = ax.new_floating_axis(0,0)\n",
    "#给x坐标轴加上箭头\n",
    "ax.axis[\"x\"].set_axisline_style(\"-|>\", size = 1.0)\n",
    "\n",
    "ax.axis[\"y\"] = ax.new_floating_axis(1,0)\n",
    "ax.axis[\"y\"].set_axisline_style(\"-|>\", size = 1.0)\n",
    "\n",
    "#设置x、y轴上刻度显示方向\n",
    "ax.axis[\"x\"].set_axis_direction(\"bottom\")\n",
    "ax.axis[\"y\"].set_axis_direction(\"right\")\n",
    "\n",
    "x = np.arange(-2, 2.1, 0.1)\n",
    "y = w * x + b\n",
    "\n",
    "x1 = np.arange(-2, 2.1, 0.5)\n",
    "y1 = np.e**x1\n",
    "\n",
    "#设置x、y坐标轴的范围\n",
    "plt.xlim(-2.1,2.1)\n",
    "plt.ylim(-1.5, 7.5)\n",
    "\n",
    "plt.plot(x, y)\n",
    "plt.scatter(x1, y1)\n",
    "plt.show()"
   ]
  },
  {
   "cell_type": "markdown",
   "metadata": {},
   "source": [
    "按照对数线性回归方法拟合的直线为：\n",
    "\n",
    "$\n",
    "y'=e^{\\omega x + b}\n",
    "$\n",
    "\n",
    "$\n",
    "\\ln{y'}=y\n",
    "$\n",
    "\n",
    "$\n",
    "y = \\omega x + b\n",
    "$\n",
    "\n",
    "所以需要对原始数据处理，将$y$的值都取对数。直接通过 sklearn 计算获取。"
   ]
  },
  {
   "cell_type": "code",
   "execution_count": 11,
   "metadata": {},
   "outputs": [
    {
     "name": "stdout",
     "output_type": "stream",
     "text": [
      "[-2.  -1.5 -1.  -0.5  0.   0.5  1.   1.5  2. ]\n",
      "[-2.00000002 -1.5        -1.         -0.5         0.          0.5\n",
      "  1.          1.5         2.        ]\n"
     ]
    }
   ],
   "source": [
    "from sklearn import datasets, linear_model\n",
    "from sklearn.linear_model import LinearRegression\n",
    "\n",
    "yln = np.log(yb)\n",
    "\n",
    "print(xib)\n",
    "print(yln)"
   ]
  },
  {
   "cell_type": "code",
   "execution_count": 12,
   "metadata": {},
   "outputs": [
    {
     "name": "stdout",
     "output_type": "stream",
     "text": [
      "w=[[1.]]\n",
      "b=[-3.00885859e-09]\n"
     ]
    }
   ],
   "source": [
    "linreg = LinearRegression()\n",
    "linreg.fit(xib.reshape(len(xib),1), yln.reshape(len(xib),1))\n",
    "print(\"w=\"+str(linreg.coef_))\n",
    "print(\"b=\"+str(linreg.intercept_))"
   ]
  },
  {
   "cell_type": "code",
   "execution_count": 13,
   "metadata": {},
   "outputs": [
    {
     "data": {
      "image/png": "[encoded data removed]",
      "text/plain": [
       "<Figure size 432x432 with 1 Axes>"
      ]
     },
     "metadata": {
      "needs_background": "light"
     },
     "output_type": "display_data"
    }
   ],
   "source": [
    "#创建画布\n",
    "fig = plt.figure(figsize=(6,6))\n",
    "#使用axisartist.Subplot方法创建一个绘图区对象ax\n",
    "ax = axisartist.Subplot(fig, 111)  \n",
    "#将绘图区对象添加到画布中\n",
    "fig.add_axes(ax)\n",
    "\n",
    "#通过set_visible方法设置绘图区所有坐标轴隐藏\n",
    "ax.axis[:].set_visible(False)\n",
    "#ax.new_floating_axis代表添加新的坐标轴\n",
    "ax.axis[\"x\"] = ax.new_floating_axis(0,0)\n",
    "#给x坐标轴加上箭头\n",
    "ax.axis[\"x\"].set_axisline_style(\"-|>\", size = 1.0)\n",
    "\n",
    "ax.axis[\"y\"] = ax.new_floating_axis(1,0)\n",
    "ax.axis[\"y\"].set_axisline_style(\"-|>\", size = 1.0)\n",
    "\n",
    "#设置x、y轴上刻度显示方向\n",
    "ax.axis[\"x\"].set_axis_direction(\"bottom\")\n",
    "ax.axis[\"y\"].set_axis_direction(\"right\")\n",
    "\n",
    "x = np.arange(-2, 2.1, 0.1)\n",
    "y = x\n",
    "\n",
    "ye = np.e ** (x)\n",
    "\n",
    "x1 = np.arange(-2, 2.1, 0.5)\n",
    "y1 = np.e**x1\n",
    "\n",
    "#设置x、y坐标轴的范围\n",
    "plt.xlim(-2.1,2.1)\n",
    "plt.ylim(-1.5, 7.5)\n",
    "\n",
    "plt.plot(x, ye)\n",
    "plt.plot(x, y)\n",
    "plt.scatter(x1, y1)\n",
    "plt.scatter(x1, list(yln))\n",
    "plt.show()"
   ]
  },
  {
   "cell_type": "code",
   "execution_count": null,
   "metadata": {},
   "outputs": [],
   "source": []
  }
 ],
 "metadata": {
  "kernelspec": {
   "display_name": "Python 3",
   "language": "python",
   "name": "python3"
  },
  "language_info": {
   "codemirror_mode": {
    "name": "ipython",
    "version": 3
   },
   "file_extension": ".py",
   "mimetype": "text/x-python",
   "name": "python",
   "nbconvert_exporter": "python",
   "pygments_lexer": "ipython3",
   "version": "3.7.0"
  }
 },
 "nbformat": 4,
 "nbformat_minor": 2
}
